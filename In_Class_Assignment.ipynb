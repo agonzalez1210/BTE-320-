{
  "nbformat": 4,
  "nbformat_minor": 0,
  "metadata": {
    "colab": {
      "provenance": [],
      "authorship_tag": "ABX9TyNyCe1IUMQhhS9j5VkpQTHN",
      "include_colab_link": true
    },
    "kernelspec": {
      "name": "python3",
      "display_name": "Python 3"
    },
    "language_info": {
      "name": "python"
    }
  },
  "cells": [
    {
      "cell_type": "markdown",
      "metadata": {
        "id": "view-in-github",
        "colab_type": "text"
      },
      "source": [
        "<a href=\"https://colab.research.google.com/github/agonzalez1210/BTE-320-/blob/main/In_Class_Assignment.ipynb\" target=\"_parent\"><img src=\"https://colab.research.google.com/assets/colab-badge.svg\" alt=\"Open In Colab\"/></a>"
      ]
    },
    {
      "cell_type": "code",
      "source": [
        "# Shape Area Calculator Assignment\n",
        "\n",
        "pi = 3.14\n",
        "r = 3 # radius of a circle\n",
        "h = 10 # height of a cylinder\n",
        "\n",
        "# Calculate cylinder surface area\n",
        "area = 2 * pi * r ** 2 + 2 * pi * r * h\n",
        "\n",
        "# Display result\n",
        "print(area)"
      ],
      "metadata": {
        "colab": {
          "base_uri": "https://localhost:8080/"
        },
        "id": "73lYVcHWLibD",
        "outputId": "98e29af8-4e7a-455c-e8ff-7d98ec1bf90e"
      },
      "execution_count": null,
      "outputs": [
        {
          "output_type": "stream",
          "name": "stdout",
          "text": [
            "244.92000000000002\n"
          ]
        }
      ]
    },
    {
      "cell_type": "code",
      "source": [
        "# Rock-Paper-Scissors Assignment\n",
        "\n",
        "p1 = input('Choose Rock, Paper, Scissors:')\n",
        "p2 = input('Choose Rock, Paper, Scissors:')\n",
        "\n",
        "if p1 == p2:\n",
        "  print('draw')\n",
        "elif p1 == 'rock' and p2 == 'scissors':\n",
        "  print('Player 1 wins!')\n",
        "elif p1 == 'paper' and p2 == 'rock':\n",
        "  print('Player 1 wins!')\n",
        "elif p1 == 'scissors' and p2 == 'paper':\n",
        "  print('Player 1 wins!')\n",
        "else:\n",
        "  print('Player 2 wins!')\n"
      ],
      "metadata": {
        "id": "eEtSHaH3L9Av",
        "colab": {
          "base_uri": "https://localhost:8080/"
        },
        "outputId": "4ec924b5-1344-41bb-a110-4e703b9841c1"
      },
      "execution_count": null,
      "outputs": [
        {
          "output_type": "stream",
          "name": "stdout",
          "text": [
            "Choose Rock, Paper, Scissors:rock\n",
            "Choose Rock, Paper, Scissors:paper\n",
            "Player 2 wins!\n"
          ]
        }
      ]
    },
    {
      "cell_type": "code",
      "source": [
        "# Rock-Paper-Scissors Assignment\n",
        "\n",
        "choice = input('Do you want to play game?')\n",
        "while choice == 'Yes':\n",
        "  p1 = input('Choose Rock, Paper, Scissors: ')\n",
        "  p2 = input('Choose Rock, Paper, Scissors: ')\n",
        "\n",
        "  if p1 == p2:\n",
        "    print('Draw')\n",
        "  elif ((p1 == 'rock' and p2 == 'scissors') or\n",
        "    (p1 == 'scissors' and p2 == 'paper') or\n",
        "        (p1 == 'paper' and p2 == 'rock')):\n",
        "        print('Player 1 wins!')\n",
        "  else:\n",
        "        print('Player 2 wins!')\n",
        "  choice = input('Do you want to play another game?')"
      ],
      "metadata": {
        "colab": {
          "base_uri": "https://localhost:8080/"
        },
        "id": "qihwUrT9QRUz",
        "outputId": "06cbd021-d732-4293-bfe5-94a60f369d80"
      },
      "execution_count": null,
      "outputs": [
        {
          "name": "stdout",
          "output_type": "stream",
          "text": [
            "Do you want to play game?Yes\n",
            "Choose Rock, Paper, Scissors: Rock\n",
            "Choose Rock, Paper, Scissors: Scissors\n",
            "Player 2 wins!\n",
            "Do you want to play another game?No\n"
          ]
        }
      ]
    },
    {
      "cell_type": "code",
      "source": [
        "# Numerical Calculator Assignment\n",
        "\n",
        "n1= float(input('Enter Number (1): '))\n",
        "n2= float(input('Enter Number (2): '))\n",
        "symbol = input('Enter Symbol (+,-,*,/,**): ')\n",
        "\n",
        "if symbol == '+':\n",
        "  print(n1+n2)\n",
        "\n",
        "elif symbol == '-':\n",
        "  print (n1-n2)\n",
        "\n",
        "elif symbol == '*':\n",
        "  print(n1*n2)\n",
        "\n",
        "elif symbol == '/':\n",
        "  print(n1/n2)\n",
        "\n",
        "elif symbol == '**':\n",
        "  print(n1**n2)\n",
        "\n"
      ],
      "metadata": {
        "colab": {
          "base_uri": "https://localhost:8080/"
        },
        "id": "xGvSeel6W6ko",
        "outputId": "86f8635b-86d6-44bf-b055-4d4bee653787"
      },
      "execution_count": null,
      "outputs": [
        {
          "output_type": "stream",
          "name": "stdout",
          "text": [
            "Enter Number (1): 10\n",
            "Enter Number (2): 10\n",
            "Enter Symbol (+,-,*,/,**): *\n",
            "100.0\n"
          ]
        }
      ]
    },
    {
      "cell_type": "code",
      "source": [
        "# Parking Garage Assignment\n",
        "\n",
        "flateRate = 5\n",
        "hourlyRate = 2.5\n",
        "\n",
        "for hour in range (1, 9, 1):\n",
        "  charge = flateRate + hourlyRate * hour\n",
        "  if charge < 10:\n",
        "    charge = 10\n",
        "  elif charge > 20:\n",
        "    charge = 20\n",
        "  print(hour, charge)"
      ],
      "metadata": {
        "colab": {
          "base_uri": "https://localhost:8080/"
        },
        "id": "-9g7kGE6kVVH",
        "outputId": "0dbf2da0-4eaf-4610-be67-27d34811240f"
      },
      "execution_count": null,
      "outputs": [
        {
          "output_type": "stream",
          "name": "stdout",
          "text": [
            "1 10\n",
            "2 10.0\n",
            "3 12.5\n",
            "4 15.0\n",
            "5 17.5\n",
            "6 20.0\n",
            "7 20\n",
            "8 20\n"
          ]
        }
      ]
    },
    {
      "cell_type": "code",
      "source": [
        "# Movie Theater Assignment\n",
        "\n",
        "for ad in range(0, 201, 25):\n",
        "  additional = 2 * ad ** 0.5\n",
        "  profit = (20 + additional) * 10 - 200 - ad\n",
        "  print(ad, profit)"
      ],
      "metadata": {
        "colab": {
          "base_uri": "https://localhost:8080/"
        },
        "id": "lr58_A0ulj-z",
        "outputId": "223c7e48-9f19-4b92-f565-31a35bfc5ff2"
      },
      "execution_count": null,
      "outputs": [
        {
          "output_type": "stream",
          "name": "stdout",
          "text": [
            "0 0.0\n",
            "25 75.0\n",
            "50 91.42135623730951\n",
            "75 98.20508075688781\n",
            "100 100.0\n",
            "125 98.60679774997897\n",
            "150 94.94897427831779\n",
            "175 89.57513110645903\n",
            "200 82.84271247461902\n"
          ]
        }
      ]
    },
    {
      "cell_type": "code",
      "source": [
        "# Months2Months Dictionary\n",
        "\n",
        "months = {}\n",
        "\n",
        "names = [\"Jan\", \"Feb\", \"Mar\", \"Apr\", \"May\", \"Jun\", \"Jul\", \"Aug\", \"Sep\", \"Oct\", \"Nov\", \"Dec\"]\n",
        "numbers = [1, 2, 3, 4, 5, 6, 7, 8, 9, 10, 11, 12]\n",
        "\n",
        "for i in range(len(numbers)):\n",
        "  months[numbers[i]] = names[i]\n",
        "\n",
        "print(months)"
      ],
      "metadata": {
        "colab": {
          "base_uri": "https://localhost:8080/"
        },
        "id": "Fyrebtj8WFbj",
        "outputId": "e81e2bad-a25f-43de-ee77-3e6a38ea5550"
      },
      "execution_count": null,
      "outputs": [
        {
          "output_type": "stream",
          "name": "stdout",
          "text": [
            "{1: 'Jan', 2: 'Feb', 3: 'Mar', 4: 'Apr', 5: 'May', 6: 'Jun', 7: 'Jul', 8: 'Aug', 9: 'Sep', 10: 'Oct', 11: 'Nov', 12: 'Dec'}\n"
          ]
        }
      ]
    },
    {
      "cell_type": "code",
      "source": [
        "# Fee Calculations\n",
        "\n",
        "def calcFee(hours):\n",
        "  fee = 5 + hours * 2.5\n",
        "  return fee\n",
        "\n",
        "hours_parked = int(input('Enter hours for parking: '))\n",
        "f = calcFee(hours_parked)\n",
        "print(f)"
      ],
      "metadata": {
        "colab": {
          "base_uri": "https://localhost:8080/"
        },
        "id": "OFN_LZmpgDtM",
        "outputId": "ab1c9c9c-f9bd-4cad-feb2-20e53318d047"
      },
      "execution_count": null,
      "outputs": [
        {
          "output_type": "stream",
          "name": "stdout",
          "text": [
            "Enter hours for parking: 5\n",
            "17.5\n"
          ]
        }
      ]
    },
    {
      "cell_type": "code",
      "source": [
        "# Fee Calculations and Display Functions\n",
        "\n",
        "def calcFee(hours):\n",
        "    fee = 5 + hours * 2.5\n",
        "    return fee\n",
        "\n",
        "def display(fee):\n",
        "    print(f\"The total parking fee is: ${fee:.2f}\")\n",
        "\n",
        "hours_parked = int(input('Enter hours for parking: '))\n",
        "f = calcFee(hours_parked)\n",
        "display(f)\n"
      ],
      "metadata": {
        "colab": {
          "base_uri": "https://localhost:8080/"
        },
        "id": "D2wnpJemXhFO",
        "outputId": "1c7e48e1-b866-450c-9a12-682a137afbfc"
      },
      "execution_count": null,
      "outputs": [
        {
          "output_type": "stream",
          "name": "stdout",
          "text": [
            "Enter hours for parking: 5\n",
            "The total parking fee is: $17.50\n"
          ]
        }
      ]
    },
    {
      "cell_type": "code",
      "source": [
        "# Fee Calculations and Display Function (multiple codes ... same result)\n",
        "\n",
        "def calcFee(hours, decimals=2):\n",
        "  fee = round (5 + hours * 2.5, decimals)\n",
        "  return fee\n",
        "def displayFee(fee):\n",
        "  print(fee)\n",
        "hours_parked = int(input('Enter hours for parking: '))\n",
        "f = calcFee(hours_parked)\n",
        "displayFee(f)"
      ],
      "metadata": {
        "colab": {
          "base_uri": "https://localhost:8080/"
        },
        "id": "q10GUejSZz2O",
        "outputId": "fbc52641-a03a-4622-e95c-e9102a6657a7"
      },
      "execution_count": null,
      "outputs": [
        {
          "output_type": "stream",
          "name": "stdout",
          "text": [
            "Enter hours for parking: 4\n",
            "15.0\n"
          ]
        }
      ]
    },
    {
      "cell_type": "code",
      "source": [
        "# Reverse Function Recursion\n",
        "\n",
        "def rev(s):\n",
        "  if len(s) == 1:\n",
        "    return s\n",
        "  else:\n",
        "    return s[-1] + rev(s[:-1])\n",
        "    return rev(s[1:]) + s[0]\n",
        "    return s[-1] + rev(s[:-1]) + s[0]\n",
        "\n",
        "rev('Halloween')"
      ],
      "metadata": {
        "id": "GSj040ugmONS",
        "colab": {
          "base_uri": "https://localhost:8080/",
          "height": 35
        },
        "outputId": "b7206c4e-78ee-486e-fc3b-2e2aeb3712e3"
      },
      "execution_count": null,
      "outputs": [
        {
          "output_type": "execute_result",
          "data": {
            "text/plain": [
              "'neewollaH'"
            ],
            "application/vnd.google.colaboratory.intrinsic+json": {
              "type": "string"
            }
          },
          "metadata": {},
          "execution_count": 11
        }
      ]
    },
    {
      "cell_type": "code",
      "source": [
        "# Student Class Assignment\n",
        "\n",
        "class Student:\n",
        "  def __init__(self, name, number):\n",
        "    self.name = name\n",
        "    self.number = number\n",
        "\n",
        "  def __str__(self):\n",
        "    return f'Name: {self.name}.'"
      ],
      "metadata": {
        "id": "UwZdMts54b4u"
      },
      "execution_count": null,
      "outputs": []
    },
    {
      "cell_type": "code",
      "source": [
        "s1 = Student(\"James Bond\", \"007\")\n",
        "s2 = Student(\"Clark Kent\", \"333\")"
      ],
      "metadata": {
        "id": "GHw4r-dq43x3"
      },
      "execution_count": null,
      "outputs": []
    },
    {
      "cell_type": "code",
      "source": [
        "print(s1)"
      ],
      "metadata": {
        "colab": {
          "base_uri": "https://localhost:8080/"
        },
        "id": "nmkQa2zY5Ag2",
        "outputId": "7815c6f7-bff2-4f62-d65e-399e846fe1ea"
      },
      "execution_count": null,
      "outputs": [
        {
          "output_type": "stream",
          "name": "stdout",
          "text": [
            "Name: James Bond.\n"
          ]
        }
      ]
    },
    {
      "cell_type": "code",
      "source": [
        "# Student Class Assignment Continuation\n",
        "\n",
        "class Student:\n",
        "  def __init__(self, name, number):\n",
        "    self.name = name\n",
        "    self.number = number\n",
        "    self.courses = []\n",
        "\n",
        "  def enroll(self, course):\n",
        "    if course not in self.courses:\n",
        "      self.courses.append(course)\n",
        "    else:\n",
        "      print(f'You have already enrolled in course: {course}')\n",
        "\n",
        "  def get_courses(self):\n",
        "    return self.courses"
      ],
      "metadata": {
        "id": "LjLRNFsAOINM"
      },
      "execution_count": null,
      "outputs": []
    },
    {
      "cell_type": "code",
      "source": [
        "s = Student('Bob', '123')"
      ],
      "metadata": {
        "id": "Ig5PeqWZPROm"
      },
      "execution_count": null,
      "outputs": []
    },
    {
      "cell_type": "code",
      "source": [
        "s.enroll('ABC123')"
      ],
      "metadata": {
        "id": "4mpj0CO5PWk8"
      },
      "execution_count": null,
      "outputs": []
    },
    {
      "cell_type": "code",
      "source": [
        "s.get_courses()"
      ],
      "metadata": {
        "colab": {
          "base_uri": "https://localhost:8080/"
        },
        "id": "SD1gE5pzPrO9",
        "outputId": "ef7c8a66-e6ce-4f52-ab29-5386dbfed0e4"
      },
      "execution_count": null,
      "outputs": [
        {
          "output_type": "execute_result",
          "data": {
            "text/plain": [
              "['ABC123']"
            ]
          },
          "metadata": {},
          "execution_count": 18
        }
      ]
    }
  ]
}