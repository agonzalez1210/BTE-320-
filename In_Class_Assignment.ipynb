{
  "nbformat": 4,
  "nbformat_minor": 0,
  "metadata": {
    "colab": {
      "provenance": [],
      "authorship_tag": "ABX9TyPJEgMKAxb6GgjcfTuNWhjn",
      "include_colab_link": true
    },
    "kernelspec": {
      "name": "python3",
      "display_name": "Python 3"
    },
    "language_info": {
      "name": "python"
    }
  },
  "cells": [
    {
      "cell_type": "markdown",
      "metadata": {
        "id": "view-in-github",
        "colab_type": "text"
      },
      "source": [
        "<a href=\"https://colab.research.google.com/github/agonzalez1210/BTE-320-/blob/main/In_Class_Assignment.ipynb\" target=\"_parent\"><img src=\"https://colab.research.google.com/assets/colab-badge.svg\" alt=\"Open In Colab\"/></a>"
      ]
    },
    {
      "cell_type": "code",
      "source": [
        "pi = 3.14\n",
        "r = 3 # radius of a circle\n",
        "h = 10 # height of a cylinder\n",
        "\n",
        "# Calculate cylinder surface area\n",
        "area = 2 * pi * r ** 2 + 2 * pi * r * h\n",
        "\n",
        "# Display result\n",
        "print(area)"
      ],
      "metadata": {
        "colab": {
          "base_uri": "https://localhost:8080/"
        },
        "id": "73lYVcHWLibD",
        "outputId": "17c526ee-0a2e-43fd-edb6-360980915673"
      },
      "execution_count": null,
      "outputs": [
        {
          "output_type": "stream",
          "name": "stdout",
          "text": [
            "244.92000000000002\n"
          ]
        }
      ]
    },
    {
      "cell_type": "code",
      "source": [
        "p1 = input('Choose Rock, Paper, Scissors:')\n",
        "p2 = input('Choose Rock, Paper, Scissors:')\n",
        "\n",
        "if p1 == p2:\n",
        "  print('draw')\n",
        "elif p1 == 'rock' and p2 == 'scissors':\n",
        "  print('Player 1 wins!')\n",
        "elif p1 == 'paper' and p2 == 'rock':\n",
        "  print('Player 1 wins!')\n",
        "elif p1 == 'scissors' and p2 == 'paper':\n",
        "  print('Player 1 wins!')\n",
        "else:\n",
        "  print('Player 2 wins!')\n"
      ],
      "metadata": {
        "id": "eEtSHaH3L9Av",
        "colab": {
          "base_uri": "https://localhost:8080/"
        },
        "outputId": "cede85a2-3c42-44eb-a42e-d37227cff343"
      },
      "execution_count": null,
      "outputs": [
        {
          "output_type": "stream",
          "name": "stdout",
          "text": [
            "Choose Rock, Paper, Scissors:rock\n",
            "Choose Rock, Paper, Scissors:rock\n",
            "draw\n"
          ]
        }
      ]
    },
    {
      "cell_type": "code",
      "source": [
        "choice = input('Do you want to play game?')\n",
        "while choice == 'Yes':\n",
        "  p1 = input('Choose Rock, Paper, Scissors: ')\n",
        "  p2 = input('Choose Rock, Paper, Scissors: ')\n",
        "\n",
        "  if p1 == p2:\n",
        "    print('Draw')\n",
        "  elif ((p1 == 'rock' and p2 == 'scissors') or\n",
        "    (p1 == 'scissors' and p2 == 'paper') or\n",
        "        (p1 == 'paper' and p2 == 'rock')):\n",
        "        print('Player 1 wins!')\n",
        "  else:\n",
        "        print('Player 2 wins!')\n",
        "  choice = input('Do you want to play another game?')"
      ],
      "metadata": {
        "colab": {
          "base_uri": "https://localhost:8080/"
        },
        "id": "qihwUrT9QRUz",
        "outputId": "675700ad-5bdf-44e7-e62c-60d7aa1bc848"
      },
      "execution_count": null,
      "outputs": [
        {
          "name": "stdout",
          "output_type": "stream",
          "text": [
            "Do you want to play game?Yes\n",
            "Choose Rock, Paper, Scissors: rock \n",
            "Choose Rock, Paper, Scissors: paper\n",
            "Player 2 wins!\n",
            "Do you want to play another game?no\n"
          ]
        }
      ]
    },
    {
      "cell_type": "code",
      "source": [
        "n1= float(input('Enter Number (1): '))\n",
        "n2= float(input('Enter Number (2): '))\n",
        "symbol = input('Enter Symbol (+,-,*,/,**): ')\n",
        "\n",
        "if symbol == '+':\n",
        "  print(n1+n2)\n",
        "\n",
        "elif symbol == '-':\n",
        "  print (n1-n2)\n",
        "\n",
        "elif symbol == '*':\n",
        "  print(n1*n2)\n",
        "\n",
        "elif symbol == '/':\n",
        "  print(n1/n2)\n",
        "\n",
        "elif symbol == '**':\n",
        "  print(n1**n2)\n",
        "\n"
      ],
      "metadata": {
        "colab": {
          "base_uri": "https://localhost:8080/"
        },
        "id": "xGvSeel6W6ko",
        "outputId": "a33a22c9-4f0c-4093-d07f-de927c27a397"
      },
      "execution_count": null,
      "outputs": [
        {
          "output_type": "stream",
          "name": "stdout",
          "text": [
            "Enter Number (1): 5\n",
            "Enter Number (2): 5\n",
            "Enter Symbol (+,-,*,/,**): +\n",
            "10.0\n"
          ]
        }
      ]
    },
    {
      "cell_type": "code",
      "source": [
        "flateRate = 5\n",
        "hourlyRate = 2.5\n",
        "\n",
        "for hour in range (1, 9, 1):\n",
        "  charge = flateRate + hourlyRate * hour\n",
        "  if charge < 10:\n",
        "    charge = 10\n",
        "  elif charge > 20:\n",
        "    charge = 20\n",
        "  print(hour, charge)"
      ],
      "metadata": {
        "colab": {
          "base_uri": "https://localhost:8080/"
        },
        "id": "-9g7kGE6kVVH",
        "outputId": "3c8055e9-104d-42e3-8416-079fab8deaa5"
      },
      "execution_count": null,
      "outputs": [
        {
          "output_type": "stream",
          "name": "stdout",
          "text": [
            "1 10\n",
            "2 10.0\n",
            "3 12.5\n",
            "4 15.0\n",
            "5 17.5\n",
            "6 20.0\n",
            "7 20\n",
            "8 20\n"
          ]
        }
      ]
    },
    {
      "cell_type": "code",
      "source": [
        "for ad in range(0, 201, 25):\n",
        "  additional = 2 * ad ** 0.5\n",
        "  profit = (20 + additional) * 10 - 200 - ad\n",
        "  print(ad, profit)"
      ],
      "metadata": {
        "colab": {
          "base_uri": "https://localhost:8080/"
        },
        "id": "lr58_A0ulj-z",
        "outputId": "ff818906-5d18-4df1-9063-95b7760a5c68"
      },
      "execution_count": null,
      "outputs": [
        {
          "output_type": "stream",
          "name": "stdout",
          "text": [
            "0 0.0\n",
            "25 75.0\n",
            "50 91.42135623730951\n",
            "75 98.20508075688781\n",
            "100 100.0\n",
            "125 98.60679774997897\n",
            "150 94.94897427831779\n",
            "175 89.57513110645903\n",
            "200 82.84271247461902\n"
          ]
        }
      ]
    },
    {
      "cell_type": "code",
      "source": [
        "months = {}\n",
        "\n",
        "names = [\"Jan\", \"Feb\", \"Mar\", \"Apr\", \"May\", \"Jun\", \"Jul\", \"Aug\", \"Sep\", \"Oct\", \"Nov\", \"Dec\"]\n",
        "numbers = [1, 2, 3, 4, 5, 6, 7, 8, 9, 10, 11, 12]\n",
        "\n",
        "for i in range(len(numbers)):\n",
        "  months[numbers[i]] = names[i]\n",
        "\n",
        "print(months)"
      ],
      "metadata": {
        "colab": {
          "base_uri": "https://localhost:8080/"
        },
        "id": "Fyrebtj8WFbj",
        "outputId": "513692db-33c1-45e8-8c55-17485e893779"
      },
      "execution_count": null,
      "outputs": [
        {
          "output_type": "stream",
          "name": "stdout",
          "text": [
            "{1: 'Jan', 2: 'Feb', 3: 'Mar', 4: 'Apr', 5: 'May', 6: 'Jun', 7: 'Jul', 8: 'Aug', 9: 'Sep', 10: 'Oct', 11: 'Nov', 12: 'Dec'}\n"
          ]
        }
      ]
    },
    {
      "cell_type": "code",
      "source": [
        "# Assignment 1: House Hunting\n",
        "def calculate_months_to_save():\n",
        "    # Get user input\n",
        "    annual_salary = float(input(\"Enter your annual salary: \"))\n",
        "    portion_saved = float(input(\"Enter the percent of your salary to save, as a decimal: \"))\n",
        "    total_cost = float(input(\"Enter the cost of your dream home: \"))\n",
        "\n",
        "    # Constants\n",
        "    portion_down_payment = 0.25\n",
        "    current_savings = 0.0\n",
        "    r = 0.04  # Annual return rate\n",
        "\n",
        "    # Calculating the down payment needed\n",
        "    down_payment = portion_down_payment * total_cost\n",
        "\n",
        "    # Monthly salary and monthly savings\n",
        "    monthly_salary = annual_salary / 12\n",
        "    months = 0\n",
        "\n",
        "    # Loop to calculate savings each month\n",
        "    while current_savings < down_payment:\n",
        "        current_savings += current_savings * r / 12 + portion_saved * monthly_salary\n",
        "        months += 1\n",
        "\n",
        "    print(\"Number of months:\", months)\n",
        "\n",
        "# Run the function\n",
        "calculate_months_to_save()\n"
      ],
      "metadata": {
        "colab": {
          "base_uri": "https://localhost:8080/"
        },
        "id": "Ava-9bhU0FHG",
        "outputId": "cc63249a-180f-4aa9-def2-34f020178c76"
      },
      "execution_count": null,
      "outputs": [
        {
          "output_type": "stream",
          "name": "stdout",
          "text": [
            "Enter your annual salary: 250000\n",
            "Enter the percent of your salary to save, as a decimal: .35\n",
            "Enter the cost of your dream home: 2000000\n",
            "Number of months: 62\n"
          ]
        }
      ]
    },
    {
      "cell_type": "code",
      "source": [
        "# Assignment 2: Saving with Raise\n",
        "def calculate_months_to_save_with_raise():\n",
        "    # Get user input\n",
        "    annual_salary = float(input(\"Enter your annual salary: \"))\n",
        "    portion_saved = float(input(\"Enter the percent of your salary to save, as a decimal: \"))\n",
        "    total_cost = float(input(\"Enter the cost of your dream home: \"))\n",
        "    semi_annual_raise = float(input(\"Enter the semi-annual raise, as a decimal: \"))\n",
        "\n",
        "    # Constants\n",
        "    portion_down_payment = 0.25\n",
        "    current_savings = 0.0\n",
        "    r = 0.04  # Annual return rate\n",
        "\n",
        "    # Calculating the down payment needed\n",
        "    down_payment = portion_down_payment * total_cost\n",
        "\n",
        "    # Monthly salary and monthly savings\n",
        "    monthly_salary = annual_salary / 12\n",
        "    months = 0\n",
        "\n",
        "    # Loop to calculate savings each month with raises\n",
        "    while current_savings < down_payment:\n",
        "        if months > 0 and months % 6 == 0:\n",
        "            annual_salary += annual_salary * semi_annual_raise\n",
        "            monthly_salary = annual_salary / 12\n",
        "        current_savings += current_savings * r / 12 + portion_saved * monthly_salary\n",
        "        months += 1\n",
        "\n",
        "    print(\"Number of months:\", months)\n",
        "\n",
        "# Run the function\n",
        "calculate_months_to_save_with_raise()\n"
      ],
      "metadata": {
        "colab": {
          "base_uri": "https://localhost:8080/"
        },
        "id": "QXPx3pQo0XGK",
        "outputId": "c660f7cc-f565-4914-b709-939043b32e06"
      },
      "execution_count": null,
      "outputs": [
        {
          "output_type": "stream",
          "name": "stdout",
          "text": [
            "Enter your annual salary: 250000\n",
            "Enter the percent of your salary to save, as a decimal: .35\n",
            "Enter the cost of your dream home: 2000000\n",
            "Enter the semi-annual raise, as a decimal: .10\n",
            "Number of months: 46\n"
          ]
        }
      ]
    },
    {
      "cell_type": "code",
      "source": [
        "# Assignment 3: Check if a number is within a range\n",
        "def range_check(num, low, high):\n",
        "    # First approach: Print the result\n",
        "    if low <= num <= high:\n",
        "        print(f\"{num} is within the range {low} to {high}\")\n",
        "    else:\n",
        "        print(f\"{num} is not within the range {low} to {high}\")\n",
        "\n",
        "    # Second approach: Return a boolean value\n",
        "    return low <= num <= high\n",
        "\n",
        "# Example usage\n",
        "number = float(input(\"Enter a number: \"))\n",
        "low = float(input(\"Enter the lower bound of the range: \"))\n",
        "high = float(input(\"Enter the upper bound of the range: \"))\n",
        "\n",
        "# Call the function with both methods\n",
        "range_check(number, low, high)\n",
        "is_in_range = range_check(number, low, high)\n",
        "print(\"Boolean result:\", is_in_range)\n"
      ],
      "metadata": {
        "colab": {
          "base_uri": "https://localhost:8080/"
        },
        "id": "tcMq0tKE0gzX",
        "outputId": "1406c260-afe6-42e1-ea59-996fcb4070e6"
      },
      "execution_count": null,
      "outputs": [
        {
          "output_type": "stream",
          "name": "stdout",
          "text": [
            "Enter a number: 25\n",
            "Enter the lower bound of the range: 15\n",
            "Enter the upper bound of the range: 35\n",
            "25.0 is within the range 15.0 to 35.0\n",
            "25.0 is within the range 15.0 to 35.0\n",
            "Boolean result: True\n"
          ]
        }
      ]
    },
    {
      "cell_type": "code",
      "source": [
        "def adder(a, b):\n",
        "  res = a + b\n",
        "  return res"
      ],
      "metadata": {
        "id": "XGYjsiQJsHpH"
      },
      "execution_count": 1,
      "outputs": []
    },
    {
      "cell_type": "code",
      "source": [
        "x = 3\n",
        "y = 2.5\n",
        "\n",
        "z = adder(x, y)\n",
        "print(z)"
      ],
      "metadata": {
        "colab": {
          "base_uri": "https://localhost:8080/"
        },
        "id": "XLaUvAQBs4fc",
        "outputId": "edc94171-9076-4bb4-cc0d-76609994a96b"
      },
      "execution_count": 2,
      "outputs": [
        {
          "output_type": "stream",
          "name": "stdout",
          "text": [
            "5.5\n"
          ]
        }
      ]
    },
    {
      "cell_type": "code",
      "source": [
        "def range_check(num, low, high):\n",
        "  if num >= low and num <= high:\n",
        "    return True\n",
        "  else:\n",
        "    return False"
      ],
      "metadata": {
        "id": "V5SAzi3dv27Z"
      },
      "execution_count": 6,
      "outputs": []
    },
    {
      "cell_type": "code",
      "source": [
        "print(range_check(low=2,high=3, num=1))"
      ],
      "metadata": {
        "colab": {
          "base_uri": "https://localhost:8080/"
        },
        "id": "zO1RR1yAyNiT",
        "outputId": "34fcf9ef-4786-44f6-f44e-a8bdb3eb4a07"
      },
      "execution_count": 8,
      "outputs": [
        {
          "output_type": "stream",
          "name": "stdout",
          "text": [
            "False\n"
          ]
        }
      ]
    },
    {
      "cell_type": "code",
      "source": [
        "def range_check(num, rn):\n",
        "  if num in rn:\n",
        "    return True\n",
        "  else:\n",
        "    return False"
      ],
      "metadata": {
        "id": "14HCVaAu1I7Q"
      },
      "execution_count": 9,
      "outputs": []
    },
    {
      "cell_type": "code",
      "source": [
        "print(range_check(rn=range(1,4), num=2))"
      ],
      "metadata": {
        "colab": {
          "base_uri": "https://localhost:8080/"
        },
        "id": "HPjGByA71Q8M",
        "outputId": "51bd5387-76ec-4b43-e97c-b73e26902eac"
      },
      "execution_count": 10,
      "outputs": [
        {
          "output_type": "stream",
          "name": "stdout",
          "text": [
            "True\n"
          ]
        }
      ]
    },
    {
      "cell_type": "code",
      "source": [
        "def input():\n",
        "  annual_salary = float(input('Enter salary:'))\n",
        "  portion = float(input('Enter portion:'))\n",
        "  total_cost = float(input('Enter cost:'))\n",
        "\n",
        "  return annual_salary, portion, total_cost"
      ],
      "metadata": {
        "id": "0H_YSH0A1dlT"
      },
      "execution_count": null,
      "outputs": []
    },
    {
      "cell_type": "code",
      "source": [
        "annual_salary, portion, total_cost = input()\n",
        "\n",
        "months = 0\n",
        "amount = 0"
      ],
      "metadata": {
        "id": "aAvS14h02h7L"
      },
      "execution_count": null,
      "outputs": []
    }
  ]
}