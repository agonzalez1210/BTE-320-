{
  "nbformat": 4,
  "nbformat_minor": 0,
  "metadata": {
    "colab": {
      "provenance": [],
      "authorship_tag": "ABX9TyNyFfHpNSTgNq7i966L8nHF",
      "include_colab_link": true
    },
    "kernelspec": {
      "name": "python3",
      "display_name": "Python 3"
    },
    "language_info": {
      "name": "python"
    }
  },
  "cells": [
    {
      "cell_type": "markdown",
      "metadata": {
        "id": "view-in-github",
        "colab_type": "text"
      },
      "source": [
        "<a href=\"https://colab.research.google.com/github/agonzalez1210/BTE-320-/blob/main/In_Class_Assignment.ipynb\" target=\"_parent\"><img src=\"https://colab.research.google.com/assets/colab-badge.svg\" alt=\"Open In Colab\"/></a>"
      ]
    },
    {
      "cell_type": "code",
      "source": [
        "pi = 3.14\n",
        "r = 3 # radius of a circle\n",
        "h = 10 # height of a cylinder\n",
        "\n",
        "# Calculate cylinder surface area\n",
        "area = 2 * pi * r ** 2 + 2 * pi * r * h\n",
        "\n",
        "# Display result\n",
        "print(area)"
      ],
      "metadata": {
        "colab": {
          "base_uri": "https://localhost:8080/"
        },
        "id": "73lYVcHWLibD",
        "outputId": "17c526ee-0a2e-43fd-edb6-360980915673"
      },
      "execution_count": null,
      "outputs": [
        {
          "output_type": "stream",
          "name": "stdout",
          "text": [
            "244.92000000000002\n"
          ]
        }
      ]
    },
    {
      "cell_type": "code",
      "source": [
        "p1 = input('Choose Rock, Paper, Scissors:')\n",
        "p2 = input('Choose Rock, Paper, Scissors:')\n",
        "\n",
        "if p1 == p2:\n",
        "  print('draw')\n",
        "elif p1 == 'rock' and p2 == 'scissors':\n",
        "  print('Player 1 wins!')\n",
        "elif p1 == 'paper' and p2 == 'rock':\n",
        "  print('Player 1 wins!')\n",
        "elif p1 == 'scissors' and p2 == 'paper':\n",
        "  print('Player 1 wins!')\n",
        "else:\n",
        "  print('Player 2 wins!')\n"
      ],
      "metadata": {
        "id": "eEtSHaH3L9Av",
        "colab": {
          "base_uri": "https://localhost:8080/"
        },
        "outputId": "cede85a2-3c42-44eb-a42e-d37227cff343"
      },
      "execution_count": null,
      "outputs": [
        {
          "output_type": "stream",
          "name": "stdout",
          "text": [
            "Choose Rock, Paper, Scissors:rock\n",
            "Choose Rock, Paper, Scissors:rock\n",
            "draw\n"
          ]
        }
      ]
    },
    {
      "cell_type": "code",
      "source": [
        "choice = input('Do you want to play game?')\n",
        "while choice == 'Yes':\n",
        "  p1 = input('Choose Rock, Paper, Scissors: ')\n",
        "  p2 = input('Choose Rock, Paper, Scissors: ')\n",
        "\n",
        "  if p1 == p2:\n",
        "    print('Draw')\n",
        "  elif ((p1 == 'rock' and p2 == 'scissors') or\n",
        "    (p1 == 'scissors' and p2 == 'paper') or\n",
        "        (p1 == 'paper' and p2 == 'rock')):\n",
        "        print('Player 1 wins!')\n",
        "  else:\n",
        "        print('Player 2 wins!')\n",
        "  choice = input('Do you want to play another game?')"
      ],
      "metadata": {
        "colab": {
          "base_uri": "https://localhost:8080/"
        },
        "id": "qihwUrT9QRUz",
        "outputId": "675700ad-5bdf-44e7-e62c-60d7aa1bc848"
      },
      "execution_count": null,
      "outputs": [
        {
          "name": "stdout",
          "output_type": "stream",
          "text": [
            "Do you want to play game?Yes\n",
            "Choose Rock, Paper, Scissors: rock \n",
            "Choose Rock, Paper, Scissors: paper\n",
            "Player 2 wins!\n",
            "Do you want to play another game?no\n"
          ]
        }
      ]
    },
    {
      "cell_type": "code",
      "source": [
        "n1= float(input('Enter Number (1): '))\n",
        "n2= float(input('Enter Number (2): '))\n",
        "symbol = input('Enter Symbol (+,-,*,/,**): ')\n",
        "\n",
        "if symbol == '+':\n",
        "  print(n1+n2)\n",
        "\n",
        "elif symbol == '-':\n",
        "  print (n1-n2)\n",
        "\n",
        "elif symbol == '*':\n",
        "  print(n1*n2)\n",
        "\n",
        "elif symbol == '/':\n",
        "  print(n1/n2)\n",
        "\n",
        "elif symbol == '**':\n",
        "  print(n1**n2)\n",
        "\n"
      ],
      "metadata": {
        "colab": {
          "base_uri": "https://localhost:8080/"
        },
        "id": "xGvSeel6W6ko",
        "outputId": "a33a22c9-4f0c-4093-d07f-de927c27a397"
      },
      "execution_count": null,
      "outputs": [
        {
          "output_type": "stream",
          "name": "stdout",
          "text": [
            "Enter Number (1): 5\n",
            "Enter Number (2): 5\n",
            "Enter Symbol (+,-,*,/,**): +\n",
            "10.0\n"
          ]
        }
      ]
    },
    {
      "cell_type": "code",
      "source": [
        "flateRate = 5\n",
        "hourlyRate = 2.5\n",
        "\n",
        "for hour in range (1, 9, 1):\n",
        "  charge = flateRate + hourlyRate * hour\n",
        "  if charge < 10:\n",
        "    charge = 10\n",
        "  elif charge > 20:\n",
        "    charge = 20\n",
        "  print(hour, charge)"
      ],
      "metadata": {
        "colab": {
          "base_uri": "https://localhost:8080/"
        },
        "id": "-9g7kGE6kVVH",
        "outputId": "3c8055e9-104d-42e3-8416-079fab8deaa5"
      },
      "execution_count": null,
      "outputs": [
        {
          "output_type": "stream",
          "name": "stdout",
          "text": [
            "1 10\n",
            "2 10.0\n",
            "3 12.5\n",
            "4 15.0\n",
            "5 17.5\n",
            "6 20.0\n",
            "7 20\n",
            "8 20\n"
          ]
        }
      ]
    },
    {
      "cell_type": "code",
      "source": [
        "for ad in range(0, 201, 25):\n",
        "  additional = 2 * ad ** 0.5\n",
        "  profit = (20 + additional) * 10 - 200 - ad\n",
        "  print(ad, profit)"
      ],
      "metadata": {
        "colab": {
          "base_uri": "https://localhost:8080/"
        },
        "id": "lr58_A0ulj-z",
        "outputId": "ff818906-5d18-4df1-9063-95b7760a5c68"
      },
      "execution_count": null,
      "outputs": [
        {
          "output_type": "stream",
          "name": "stdout",
          "text": [
            "0 0.0\n",
            "25 75.0\n",
            "50 91.42135623730951\n",
            "75 98.20508075688781\n",
            "100 100.0\n",
            "125 98.60679774997897\n",
            "150 94.94897427831779\n",
            "175 89.57513110645903\n",
            "200 82.84271247461902\n"
          ]
        }
      ]
    },
    {
      "cell_type": "code",
      "source": [
        "months = {}\n",
        "\n",
        "names = [\"Jan\", \"Feb\", \"Mar\", \"Apr\", \"May\", \"Jun\", \"Jul\", \"Aug\", \"Sep\", \"Oct\", \"Nov\", \"Dec\"]\n",
        "numbers = [1, 2, 3, 4, 5, 6, 7, 8, 9, 10, 11, 12]\n",
        "\n",
        "for i in range(len(numbers)):\n",
        "  months[numbers[i]] = names[i]\n",
        "\n",
        "print(months)"
      ],
      "metadata": {
        "colab": {
          "base_uri": "https://localhost:8080/"
        },
        "id": "Fyrebtj8WFbj",
        "outputId": "513692db-33c1-45e8-8c55-17485e893779"
      },
      "execution_count": null,
      "outputs": [
        {
          "output_type": "stream",
          "name": "stdout",
          "text": [
            "{1: 'Jan', 2: 'Feb', 3: 'Mar', 4: 'Apr', 5: 'May', 6: 'Jun', 7: 'Jul', 8: 'Aug', 9: 'Sep', 10: 'Oct', 11: 'Nov', 12: 'Dec'}\n"
          ]
        }
      ]
    },
    {
      "cell_type": "code",
      "source": [
        "def calcFee(hours):\n",
        "  fee = 5 + hours * 2.5\n",
        "  return fee\n",
        "\n",
        "hours_parked = int(input('Enter hours for parking: '))\n",
        "f = calcFee(hours_parked)\n",
        "print(f)"
      ],
      "metadata": {
        "colab": {
          "base_uri": "https://localhost:8080/"
        },
        "id": "OFN_LZmpgDtM",
        "outputId": "bb1148d8-650a-4c58-e822-f7bb0868c88a"
      },
      "execution_count": null,
      "outputs": [
        {
          "output_type": "stream",
          "name": "stdout",
          "text": [
            "Enter hours for parking: 4\n",
            "15.0\n"
          ]
        }
      ]
    },
    {
      "cell_type": "code",
      "source": [
        "def rev(s):\n",
        "  if len(s) == 1:\n",
        "    return s\n",
        "  else:\n",
        "    return s[-1] + rev(s[:-1])\n",
        "    return rev(s[1:]) + s[0]\n",
        "    return s[-1] + rev(s[:-1]) + s[0]\n",
        "\n",
        "rev('Halloween')"
      ],
      "metadata": {
        "id": "GSj040ugmONS"
      },
      "execution_count": null,
      "outputs": []
    },
    {
      "cell_type": "code",
      "source": [
        "class Student:\n",
        "  def __init__(self, name, number):\n",
        "    self.name = name\n",
        "    self.number = number\n",
        "\n",
        "  def __str__(self):\n",
        "    return f'Name: {self.name}.'"
      ],
      "metadata": {
        "id": "UwZdMts54b4u"
      },
      "execution_count": null,
      "outputs": []
    },
    {
      "cell_type": "code",
      "source": [
        "s1 = Student(\"James Bond\", \"007\")\n",
        "s2 = Student(\"Clark Kent\", \"333\")"
      ],
      "metadata": {
        "id": "GHw4r-dq43x3"
      },
      "execution_count": null,
      "outputs": []
    },
    {
      "cell_type": "code",
      "source": [
        "print(s1)"
      ],
      "metadata": {
        "colab": {
          "base_uri": "https://localhost:8080/"
        },
        "id": "nmkQa2zY5Ag2",
        "outputId": "3ae8ad21-7089-47ca-b043-ab3ceacf57db"
      },
      "execution_count": null,
      "outputs": [
        {
          "output_type": "stream",
          "name": "stdout",
          "text": [
            "Name: James Bond.\n"
          ]
        }
      ]
    },
    {
      "cell_type": "code",
      "source": [
        "class Student:\n",
        "  def __init__(self, name, number):\n",
        "    self.name = name\n",
        "    self.number = number\n",
        "    self.courses = []\n",
        "\n",
        "  def enroll(self, course):\n",
        "    if course not in self.courses:\n",
        "      self.courses.append(course)\n",
        "    else:\n",
        "      print(f'You have already enrolled in course: {course}')\n",
        "\n",
        "  def get_courses(self):\n",
        "    return self.courses"
      ],
      "metadata": {
        "id": "LjLRNFsAOINM"
      },
      "execution_count": null,
      "outputs": []
    },
    {
      "cell_type": "code",
      "source": [
        "s = Student('Bob', '123')"
      ],
      "metadata": {
        "id": "Ig5PeqWZPROm"
      },
      "execution_count": null,
      "outputs": []
    },
    {
      "cell_type": "code",
      "source": [
        "s.enroll('ABC123')"
      ],
      "metadata": {
        "colab": {
          "base_uri": "https://localhost:8080/"
        },
        "id": "4mpj0CO5PWk8",
        "outputId": "ee8d912f-4d7a-4f03-e77e-99553ef288d9"
      },
      "execution_count": null,
      "outputs": [
        {
          "output_type": "stream",
          "name": "stdout",
          "text": [
            "You have already enrolled in course: ABC123\n"
          ]
        }
      ]
    },
    {
      "cell_type": "code",
      "source": [
        "s.get_courses()"
      ],
      "metadata": {
        "colab": {
          "base_uri": "https://localhost:8080/"
        },
        "id": "SD1gE5pzPrO9",
        "outputId": "4beb44b6-beb8-43d1-dd66-4910f476802c"
      },
      "execution_count": null,
      "outputs": [
        {
          "output_type": "execute_result",
          "data": {
            "text/plain": [
              "['ABC123']"
            ]
          },
          "metadata": {},
          "execution_count": 20
        }
      ]
    }
  ]
}