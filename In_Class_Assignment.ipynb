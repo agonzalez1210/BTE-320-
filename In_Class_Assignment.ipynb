{
  "nbformat": 4,
  "nbformat_minor": 0,
  "metadata": {
    "colab": {
      "provenance": [],
      "authorship_tag": "ABX9TyPqT8SwEGXnkYO1qrU7Ekon",
      "include_colab_link": true
    },
    "kernelspec": {
      "name": "python3",
      "display_name": "Python 3"
    },
    "language_info": {
      "name": "python"
    }
  },
  "cells": [
    {
      "cell_type": "markdown",
      "metadata": {
        "id": "view-in-github",
        "colab_type": "text"
      },
      "source": [
        "<a href=\"https://colab.research.google.com/github/agonzalez1210/BTE-320-/blob/main/In_Class_Assignment.ipynb\" target=\"_parent\"><img src=\"https://colab.research.google.com/assets/colab-badge.svg\" alt=\"Open In Colab\"/></a>"
      ]
    },
    {
      "cell_type": "markdown",
      "source": [
        "## Assignment 1"
      ],
      "metadata": {
        "id": "a2tVF1PuLmhU"
      }
    },
    {
      "cell_type": "code",
      "source": [
        "pi = 3.14\n",
        "r = 3 # radius of a circle\n",
        "h = 10 # height of a cylinder\n",
        "\n",
        "# Calculate cylinder surface area\n",
        "area = 2 * pi * r ** 2 + 2 * pi * r * h\n",
        "\n",
        "# Display result\n",
        "print(area)"
      ],
      "metadata": {
        "colab": {
          "base_uri": "https://localhost:8080/"
        },
        "id": "73lYVcHWLibD",
        "outputId": "1ff2cb1b-d5a7-408c-f5c2-7a350b6b0b6a"
      },
      "execution_count": null,
      "outputs": [
        {
          "output_type": "stream",
          "name": "stdout",
          "text": [
            "244.92000000000002\n"
          ]
        }
      ]
    },
    {
      "cell_type": "markdown",
      "source": [
        "## Assignment 2"
      ],
      "metadata": {
        "id": "VPyGznEGLxoQ"
      }
    },
    {
      "cell_type": "code",
      "source": [
        "p1 = input('Choose Rock, Paper, Scissors:')\n",
        "p2 = input('Choose Rock, Paper, Scissors:')\n",
        "\n",
        "if p1 == p2:\n",
        "  print('draw')\n",
        "elif p1 == 'rock' and p2 == 'scissors':\n",
        "  print('Player 1 wins!')\n",
        "elif p1 == 'paper' and p2 == 'rock':\n",
        "  print('Player 1 wins!')\n",
        "elif p1 == 'scissors' and p2 == 'paper':\n",
        "  print('Player 1 wins!')\n",
        "else:\n",
        "  print('Player 2 wins!')\n"
      ],
      "metadata": {
        "id": "eEtSHaH3L9Av"
      },
      "execution_count": null,
      "outputs": []
    },
    {
      "cell_type": "code",
      "source": [
        "p1 = input('Choose Rock, Paper, Scissors:')\n",
        "p2 = input('Choose Rock, Paper, Scissors:')\n",
        "\n",
        "if p1 == p2:\n",
        "  print('Draw')\n",
        "elif"
      ],
      "metadata": {
        "id": "zs4BnWE5Q8Lf"
      },
      "execution_count": null,
      "outputs": []
    },
    {
      "cell_type": "markdown",
      "source": [
        "## Assignment 3"
      ],
      "metadata": {
        "id": "7Iml1fFGW4oG"
      }
    },
    {
      "cell_type": "code",
      "source": [
        "n1= float(input('Enter Number (1): '))\n",
        "n2= float(input('Enter Number (2): '))\n",
        "symbol = input('Enter Symbol (+,-,*,/,**): ')\n",
        "\n",
        "if symbol == '+':\n",
        "  print(n1+n2)\n",
        "\n",
        "elif symbol == '-':\n",
        "  print (n1-n2)\n",
        "\n",
        "elif symbol == '*':\n",
        "  print(n1*n2)\n",
        "\n",
        "elif symbol == '/':\n",
        "  print(n1/n2)\n",
        "\n",
        "elif symbol == '**':\n",
        "  print(n1**n2)\n",
        "\n"
      ],
      "metadata": {
        "colab": {
          "base_uri": "https://localhost:8080/"
        },
        "id": "xGvSeel6W6ko",
        "outputId": "a33a22c9-4f0c-4093-d07f-de927c27a397"
      },
      "execution_count": 7,
      "outputs": [
        {
          "output_type": "stream",
          "name": "stdout",
          "text": [
            "Enter Number (1): 5\n",
            "Enter Number (2): 5\n",
            "Enter Symbol (+,-,*,/,**): +\n",
            "10.0\n"
          ]
        }
      ]
    }
  ]
}